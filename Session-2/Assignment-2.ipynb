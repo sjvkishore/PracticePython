{
 "cells": [
  {
   "cell_type": "markdown",
   "metadata": {},
   "source": [
    "Q1: \n",
    "\n",
    "1.1 Write a Python Program to implement your own myreduce() function which works exactly\n",
    "like Python's built-in function reduce()"
   ]
  },
  {
   "cell_type": "code",
   "execution_count": 8,
   "metadata": {},
   "outputs": [
    {
     "name": "stdout",
     "output_type": "stream",
     "text": [
      "15\n",
      "120\n"
     ]
    }
   ],
   "source": [
    "def my_reduce(func, input_list):\n",
    "    x= input_list[0]\n",
    "    \n",
    "    for i in range(1,len(input_list)):\n",
    "        x = func(x,input_list[i])\n",
    "    return x\n",
    "\n",
    "def sum_of_2nums(a,b):\n",
    "    return a+b\n",
    "\n",
    "def mul_of_2nums(a,b):\n",
    "    return a*b\n",
    "\n",
    "inp_lst = [1,2,3,4,5]\n",
    "print(my_reduce(sum_of_2nums,inp_lst))\n",
    "print(my_reduce(mul_of_2nums,inp_lst))"
   ]
  },
  {
   "cell_type": "markdown",
   "metadata": {},
   "source": [
    "1.2 Write a Python program to implement your own myfilter() function which works exactly\n",
    "like Python's built-in function filter()"
   ]
  },
  {
   "cell_type": "code",
   "execution_count": 20,
   "metadata": {},
   "outputs": [
    {
     "name": "stdout",
     "output_type": "stream",
     "text": [
      "[5, 10]\n",
      "[1, 3, 5, 7, 9]\n"
     ]
    }
   ],
   "source": [
    "def my_filter(func, input_list):\n",
    "    x = []\n",
    "    y = []\n",
    "    \n",
    "    for i in input_list:\n",
    "        x.append(func(i))\n",
    "    #print(x)\n",
    "    \n",
    "   \n",
    "    for i in range(0, len(x)):\n",
    "        if x[i] == False:\n",
    "            continue\n",
    "        else:\n",
    "            y.append(x[i])\n",
    "     \n",
    "    return y\n",
    "    \n",
    "def mod5(num):\n",
    "    if num % 5 == 0:\n",
    "        return num\n",
    "    else:\n",
    "        return False\n",
    "    \n",
    "inp_lst = [1,5,9,10] \n",
    "\n",
    "print(my_filter(mod5,inp_lst))    \n",
    "\n",
    "\n",
    "\n",
    "def odd_number(i):\n",
    "    if i%2 == 1:\n",
    "        return i\n",
    "    else:\n",
    "        return False\n",
    "\n",
    "print(my_filter(odd_number,[1, 2, 3, 4, 5, 6, 7, 8, 9, 10]))"
   ]
  },
  {
   "cell_type": "markdown",
   "metadata": {},
   "source": [
    "Q2:\n",
    "    Implement List comprehensions to produce the following lists.\n",
    "Write List comprehensions to produce the following Lists\n",
    "['A', 'C', 'A', 'D', 'G', 'I', ’L’, ‘ D’]"
   ]
  },
  {
   "cell_type": "code",
   "execution_count": 2,
   "metadata": {},
   "outputs": [
    {
     "data": {
      "text/plain": [
       "['A', 'C', 'A', 'D', 'G', 'I', 'L', 'D']"
      ]
     },
     "execution_count": 2,
     "metadata": {},
     "output_type": "execute_result"
    }
   ],
   "source": [
    "input_str = \"ACADGILD\"\n",
    "\n",
    "output_lst = list(input_str)\n",
    "\n",
    "output_lst"
   ]
  },
  {
   "cell_type": "markdown",
   "metadata": {},
   "source": [
    "2.1: ['x', 'xx', 'xxx', 'xxxx', 'y', 'yy', 'yyy', 'yyyy', 'z', 'zz', 'zzz', 'zzzz']"
   ]
  },
  {
   "cell_type": "code",
   "execution_count": 5,
   "metadata": {},
   "outputs": [
    {
     "data": {
      "text/plain": [
       "['x', 'xx', 'xxx', 'xxxx', 'y', 'yy', 'yyy', 'yyyy', 'z', 'zz', 'zzz', 'zzzz']"
      ]
     },
     "execution_count": 5,
     "metadata": {},
     "output_type": "execute_result"
    }
   ],
   "source": [
    "input_str = \"xyz\"\n",
    "lst = list(input_str)\n",
    "[i*j for i in lst for j in range(1,5)]"
   ]
  },
  {
   "cell_type": "markdown",
   "metadata": {},
   "source": [
    "2.2 ['x', 'y', 'z', 'xx', 'yy', 'zz', 'xx', 'yy', 'zz', 'xxxx', 'yyyy', 'zzzz']"
   ]
  },
  {
   "cell_type": "code",
   "execution_count": 26,
   "metadata": {},
   "outputs": [
    {
     "data": {
      "text/plain": [
       "['x', 'y', 'z', 'xx', 'yy', 'zz', 'xxx', 'yyy', 'zzz', 'xxxx', 'yyyy', 'zzzz']"
      ]
     },
     "execution_count": 26,
     "metadata": {},
     "output_type": "execute_result"
    }
   ],
   "source": [
    "[i * j for j in range(1,5) for i in lst]"
   ]
  },
  {
   "cell_type": "markdown",
   "metadata": {},
   "source": [
    "2.3 [[2], [3], [4], [3], [4], [5], [4], [5], [6]]"
   ]
  },
  {
   "cell_type": "code",
   "execution_count": 39,
   "metadata": {},
   "outputs": [
    {
     "data": {
      "text/plain": [
       "[[2], [3], [4], [3], [4], [5], [4], [5], [6]]"
      ]
     },
     "execution_count": 39,
     "metadata": {},
     "output_type": "execute_result"
    }
   ],
   "source": [
    "lst = []\n",
    "for i in range(2,5):\n",
    "    lst.append([i])\n",
    "    lst.append([i+1])\n",
    "    lst.append([i+2])\n",
    "lst    "
   ]
  },
  {
   "cell_type": "markdown",
   "metadata": {},
   "source": [
    "2.3 [[2, 3, 4, 5], [3, 4, 5, 6], [4, 5, 6, 7], [5, 6, 7, 8]]"
   ]
  },
  {
   "cell_type": "code",
   "execution_count": 42,
   "metadata": {},
   "outputs": [
    {
     "data": {
      "text/plain": [
       "[[2, 3, 4, 5], [3, 4, 5, 6], [4, 5, 6, 7], [5, 6, 7, 8]]"
      ]
     },
     "execution_count": 42,
     "metadata": {},
     "output_type": "execute_result"
    }
   ],
   "source": [
    "nlst = []\n",
    "for i in range(2,6):\n",
    "    nlst.append([i,i+1,i+2,i+3])\n",
    "nlst    "
   ]
  },
  {
   "cell_type": "markdown",
   "metadata": {},
   "source": [
    "2.4 [(1, 1), (2, 1), (3, 1), (1, 2), (2, 2), (3, 2), (1, 3), (2, 3), (3, 3)]"
   ]
  },
  {
   "cell_type": "code",
   "execution_count": 49,
   "metadata": {},
   "outputs": [
    {
     "data": {
      "text/plain": [
       "[(1, 1), (2, 1), (3, 1), (1, 2), (2, 2), (3, 2), (1, 3), (2, 3), (3, 3)]"
      ]
     },
     "execution_count": 49,
     "metadata": {},
     "output_type": "execute_result"
    }
   ],
   "source": [
    "tlst = []\n",
    "for i in range(1,4):\n",
    "    for j in range(1,4):\n",
    "        tlst.append((j,i))\n",
    "    \n",
    "tlst"
   ]
  },
  {
   "cell_type": "markdown",
   "metadata": {},
   "source": [
    "3Q: Implement a function longestWord() that takes a list of words and returns the longest one."
   ]
  },
  {
   "cell_type": "code",
   "execution_count": 84,
   "metadata": {},
   "outputs": [
    {
     "name": "stdout",
     "output_type": "stream",
     "text": [
      "one,twoo,three\n",
      "three\n"
     ]
    }
   ],
   "source": [
    "inp_str = input()\n",
    "inp_lst = inp_str.split(\",\")\n",
    "longest_string = max(inp_lst, key=len) \n",
    "print(longest_string)\n"
   ]
  },
  {
   "cell_type": "markdown",
   "metadata": {},
   "source": [
    "## Task- 2"
   ]
  },
  {
   "cell_type": "markdown",
   "metadata": {},
   "source": [
    "1.1 Write a Python Program(with class concepts) to find the area of the triangle using the below\n",
    "formula.\n",
    "area = (s*(s-a)*(s-b)*(s-c)) ** 0.5\n",
    "\n",
    "Function to take the length of the sides of triangle from user should be defined in the parent\n",
    "class and function to calculate the area should be defined in subclass."
   ]
  },
  {
   "cell_type": "code",
   "execution_count": 37,
   "metadata": {},
   "outputs": [
    {
     "data": {
      "text/plain": [
       "6.0"
      ]
     },
     "execution_count": 37,
     "metadata": {},
     "output_type": "execute_result"
    }
   ],
   "source": [
    "class Triangle():\n",
    "    \n",
    "    def tri_area(a,b,c):\n",
    "        s = (a+b+c) / 2\n",
    "        res =  (s * (s-a)*(s-b)*(s-c)) ** 0.5\n",
    "        return res\n",
    "    \n",
    "#Triangle.tri_area(4,2,3)   \n",
    "Triangle.tri_area(3,4,5)   "
   ]
  },
  {
   "cell_type": "markdown",
   "metadata": {},
   "source": [
    "1.2 Write a function filter_long_words() that takes a list of words and an integer n and returns the list\n",
    "of words that are longer than n."
   ]
  },
  {
   "cell_type": "code",
   "execution_count": 37,
   "metadata": {},
   "outputs": [
    {
     "name": "stdout",
     "output_type": "stream",
     "text": [
      "kishore,Rishi,Lucky,ok\n",
      "2\n",
      "['kishore', 'Rishi', 'Lucky']\n"
     ]
    }
   ],
   "source": [
    "inp_words_str = input()    \n",
    "n = int(input())\n",
    "inp_words_lst = inp_words_str.split(\",\")\n",
    "\n",
    "def filter_long_words(inp_lst, num):\n",
    "    string_lens = list(map(lambda x: len(x), inp_lst))\n",
    "    d = dict(zip(inp_lst,string_lens))    \n",
    "    return list(filter(lambda x: len(x)> num, d))\n",
    "\n",
    "print(filter_long_words(inp_words_lst,n))"
   ]
  },
  {
   "cell_type": "markdown",
   "metadata": {},
   "source": [
    "Q:2.1)\n",
    "Write a Python program using function concept that maps list of words into a list of integers\n",
    "representing the lengths of the corresponding words.\n",
    "Hint: If a list [ ab,cde,erty] is passed on to the python function output should come as [2,3,4]\n",
    "Here 2,3 and 4 are the lengths of the words in the list"
   ]
  },
  {
   "cell_type": "code",
   "execution_count": 38,
   "metadata": {},
   "outputs": [
    {
     "name": "stdout",
     "output_type": "stream",
     "text": [
      "kishore,Rishi,Lucky,ok\n",
      "[7, 5, 5, 2]\n"
     ]
    }
   ],
   "source": [
    "inp_words_str = input()    \n",
    "inp_words_lst = inp_words_str.split(\",\")\n",
    "\n",
    "def filter_long_words(inp_lst):\n",
    "    string_lens = list(map(lambda x: len(x), inp_lst))\n",
    "    return(string_lens)\n",
    "\n",
    "print(filter_long_words(inp_words_lst))"
   ]
  },
  {
   "cell_type": "markdown",
   "metadata": {},
   "source": [
    "Q:2.2)\n",
    "\n",
    "Write a Python function which takes a character (i.e. a string of length 1) and returns True if it is\n",
    "a vowel, False otherwise.\n",
    "NOTE: The solution shared through Github should contain the source code used  and\n",
    "the screenshot of the output."
   ]
  },
  {
   "cell_type": "code",
   "execution_count": 56,
   "metadata": {},
   "outputs": [
    {
     "name": "stdout",
     "output_type": "stream",
     "text": [
      "o\n",
      "True\n"
     ]
    }
   ],
   "source": [
    "def is_vowel(c):\n",
    "    lst = ['a','e','i','o','u']\n",
    "    if c in lst:\n",
    "        print(\"True\")\n",
    "    else:\n",
    "        print(\"False\")\n",
    "    \n",
    "input_char = input()\n",
    "is_vowel(input_char)"
   ]
  },
  {
   "cell_type": "code",
   "execution_count": null,
   "metadata": {},
   "outputs": [],
   "source": []
  },
  {
   "cell_type": "code",
   "execution_count": null,
   "metadata": {},
   "outputs": [],
   "source": []
  }
 ],
 "metadata": {
  "kernelspec": {
   "display_name": "Python 3",
   "language": "python",
   "name": "python3"
  },
  "language_info": {
   "codemirror_mode": {
    "name": "ipython",
    "version": 3
   },
   "file_extension": ".py",
   "mimetype": "text/x-python",
   "name": "python",
   "nbconvert_exporter": "python",
   "pygments_lexer": "ipython3",
   "version": "3.7.3"
  }
 },
 "nbformat": 4,
 "nbformat_minor": 2
}
